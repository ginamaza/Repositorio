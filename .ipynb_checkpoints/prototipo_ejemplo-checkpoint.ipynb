{
 "cells": [
  {
   "cell_type": "code",
   "execution_count": 2,
   "id": "0886d75a-ab17-4902-82ba-86ecf01abe0b",
   "metadata": {},
   "outputs": [
    {
     "data": {
      "text/html": [
       "<div>\n",
       "<style scoped>\n",
       "    .dataframe tbody tr th:only-of-type {\n",
       "        vertical-align: middle;\n",
       "    }\n",
       "\n",
       "    .dataframe tbody tr th {\n",
       "        vertical-align: top;\n",
       "    }\n",
       "\n",
       "    .dataframe thead th {\n",
       "        text-align: right;\n",
       "    }\n",
       "</style>\n",
       "<table border=\"1\" class=\"dataframe\">\n",
       "  <thead>\n",
       "    <tr style=\"text-align: right;\">\n",
       "      <th></th>\n",
       "      <th>step</th>\n",
       "      <th>customer</th>\n",
       "      <th>age</th>\n",
       "      <th>gender</th>\n",
       "      <th>zipcodeOri</th>\n",
       "      <th>merchant</th>\n",
       "      <th>zipMerchant</th>\n",
       "      <th>category</th>\n",
       "      <th>amount</th>\n",
       "      <th>fraud</th>\n",
       "    </tr>\n",
       "  </thead>\n",
       "  <tbody>\n",
       "    <tr>\n",
       "      <th>0</th>\n",
       "      <td>0</td>\n",
       "      <td>'C1093826151'</td>\n",
       "      <td>'4'</td>\n",
       "      <td>'M'</td>\n",
       "      <td>'28007'</td>\n",
       "      <td>'M348934600'</td>\n",
       "      <td>'28007'</td>\n",
       "      <td>'es_transportation'</td>\n",
       "      <td>4.55</td>\n",
       "      <td>0</td>\n",
       "    </tr>\n",
       "    <tr>\n",
       "      <th>1</th>\n",
       "      <td>0</td>\n",
       "      <td>'C352968107'</td>\n",
       "      <td>'2'</td>\n",
       "      <td>'M'</td>\n",
       "      <td>'28007'</td>\n",
       "      <td>'M348934600'</td>\n",
       "      <td>'28007'</td>\n",
       "      <td>'es_transportation'</td>\n",
       "      <td>39.68</td>\n",
       "      <td>0</td>\n",
       "    </tr>\n",
       "    <tr>\n",
       "      <th>2</th>\n",
       "      <td>0</td>\n",
       "      <td>'C2054744914'</td>\n",
       "      <td>'4'</td>\n",
       "      <td>'F'</td>\n",
       "      <td>'28007'</td>\n",
       "      <td>'M1823072687'</td>\n",
       "      <td>'28007'</td>\n",
       "      <td>'es_transportation'</td>\n",
       "      <td>26.89</td>\n",
       "      <td>0</td>\n",
       "    </tr>\n",
       "    <tr>\n",
       "      <th>3</th>\n",
       "      <td>0</td>\n",
       "      <td>'C1760612790'</td>\n",
       "      <td>'3'</td>\n",
       "      <td>'M'</td>\n",
       "      <td>'28007'</td>\n",
       "      <td>'M348934600'</td>\n",
       "      <td>'28007'</td>\n",
       "      <td>'es_transportation'</td>\n",
       "      <td>17.25</td>\n",
       "      <td>0</td>\n",
       "    </tr>\n",
       "    <tr>\n",
       "      <th>4</th>\n",
       "      <td>0</td>\n",
       "      <td>'C757503768'</td>\n",
       "      <td>'5'</td>\n",
       "      <td>'M'</td>\n",
       "      <td>'28007'</td>\n",
       "      <td>'M348934600'</td>\n",
       "      <td>'28007'</td>\n",
       "      <td>'es_transportation'</td>\n",
       "      <td>35.72</td>\n",
       "      <td>0</td>\n",
       "    </tr>\n",
       "  </tbody>\n",
       "</table>\n",
       "</div>"
      ],
      "text/plain": [
       "   step       customer  age gender zipcodeOri       merchant zipMerchant  \\\n",
       "0     0  'C1093826151'  '4'    'M'    '28007'   'M348934600'     '28007'   \n",
       "1     0   'C352968107'  '2'    'M'    '28007'   'M348934600'     '28007'   \n",
       "2     0  'C2054744914'  '4'    'F'    '28007'  'M1823072687'     '28007'   \n",
       "3     0  'C1760612790'  '3'    'M'    '28007'   'M348934600'     '28007'   \n",
       "4     0   'C757503768'  '5'    'M'    '28007'   'M348934600'     '28007'   \n",
       "\n",
       "              category  amount  fraud  \n",
       "0  'es_transportation'    4.55      0  \n",
       "1  'es_transportation'   39.68      0  \n",
       "2  'es_transportation'   26.89      0  \n",
       "3  'es_transportation'   17.25      0  \n",
       "4  'es_transportation'   35.72      0  "
      ]
     },
     "execution_count": 2,
     "metadata": {},
     "output_type": "execute_result"
    }
   ],
   "source": [
    "import main \n",
    "import pandas as pd \n",
    "\n",
    "nombreArchivo = \"fraud_credit_card.csv\"\n",
    "df = main.leerDataset(nombreArchivo)\n",
    "df.head()"
   ]
  },
  {
   "cell_type": "code",
   "execution_count": 5,
   "id": "62af94d0-7171-49a9-941f-2a50e51066e0",
   "metadata": {},
   "outputs": [
    {
     "name": "stdout",
     "output_type": "stream",
     "text": [
      "Resumen General\n",
      "Dimensiones del dataset: (594643, 10)\n",
      "\n",
      "Tipos de datos:\n",
      " step             int64\n",
      "customer        object\n",
      "age             object\n",
      "gender          object\n",
      "zipcodeOri      object\n",
      "merchant        object\n",
      "zipMerchant     object\n",
      "category        object\n",
      "amount         float64\n",
      "fraud            int64\n",
      "dtype: object\n",
      "\n",
      "Valores nulos por columna:\n",
      " step           0\n",
      "customer       0\n",
      "age            0\n",
      "gender         0\n",
      "zipcodeOri     0\n",
      "merchant       0\n",
      "zipMerchant    0\n",
      "category       0\n",
      "amount         0\n",
      "fraud          0\n",
      "dtype: int64\n",
      "\n",
      "Primeras filas:\n",
      "    step       customer  age gender zipcodeOri       merchant zipMerchant  \\\n",
      "0     0  'C1093826151'  '4'    'M'    '28007'   'M348934600'     '28007'   \n",
      "1     0   'C352968107'  '2'    'M'    '28007'   'M348934600'     '28007'   \n",
      "2     0  'C2054744914'  '4'    'F'    '28007'  'M1823072687'     '28007'   \n",
      "3     0  'C1760612790'  '3'    'M'    '28007'   'M348934600'     '28007'   \n",
      "4     0   'C757503768'  '5'    'M'    '28007'   'M348934600'     '28007'   \n",
      "\n",
      "              category  amount  fraud  \n",
      "0  'es_transportation'    4.55      0  \n",
      "1  'es_transportation'   39.68      0  \n",
      "2  'es_transportation'   26.89      0  \n",
      "3  'es_transportation'   17.25      0  \n",
      "4  'es_transportation'   35.72      0  \n",
      "\n",
      "Últimas filas:\n",
      "         step       customer  age gender zipcodeOri       merchant zipMerchant  \\\n",
      "594638   179  'C1753498738'  '3'    'F'    '28007'  'M1823072687'     '28007'   \n",
      "594639   179   'C650108285'  '4'    'F'    '28007'  'M1823072687'     '28007'   \n",
      "594640   179   'C123623130'  '2'    'F'    '28007'   'M349281107'     '28007'   \n",
      "594641   179  'C1499363341'  '5'    'M'    '28007'  'M1823072687'     '28007'   \n",
      "594642   179   'C616528518'  '4'    'F'    '28007'  'M1823072687'     '28007'   \n",
      "\n",
      "                   category  amount  fraud  \n",
      "594638  'es_transportation'   20.53      0  \n",
      "594639  'es_transportation'   50.73      0  \n",
      "594640         'es_fashion'   22.44      0  \n",
      "594641  'es_transportation'   14.46      0  \n",
      "594642  'es_transportation'   26.93      0  \n"
     ]
    }
   ],
   "source": [
    "print('Resumen General')\n",
    "main.resumen_general(df)"
   ]
  },
  {
   "cell_type": "code",
   "execution_count": 6,
   "id": "bf4f7a35-624b-4d19-8086-083fe2e3a92c",
   "metadata": {},
   "outputs": [
    {
     "name": "stdout",
     "output_type": "stream",
     "text": [
      "Estadisticas Descriptivas\n",
      "\n",
      "Estadísticas descriptivas:\n",
      "                  step       customer     age  gender zipcodeOri  \\\n",
      "count   594643.000000         594643  594643  594643     594643   \n",
      "unique            NaN           4112       8       4          1   \n",
      "top               NaN  'C1978250683'     '2'     'F'    '28007'   \n",
      "freq              NaN            265  187310  324565     594643   \n",
      "mean        94.986827            NaN     NaN     NaN        NaN   \n",
      "std         51.053632            NaN     NaN     NaN        NaN   \n",
      "min          0.000000            NaN     NaN     NaN        NaN   \n",
      "25%         52.000000            NaN     NaN     NaN        NaN   \n",
      "50%         97.000000            NaN     NaN     NaN        NaN   \n",
      "75%        139.000000            NaN     NaN     NaN        NaN   \n",
      "max        179.000000            NaN     NaN     NaN        NaN   \n",
      "\n",
      "             merchant zipMerchant             category         amount  \\\n",
      "count          594643      594643               594643  594643.000000   \n",
      "unique             50           1                   15            NaN   \n",
      "top     'M1823072687'     '28007'  'es_transportation'            NaN   \n",
      "freq           299693      594643               505119            NaN   \n",
      "mean              NaN         NaN                  NaN      37.890135   \n",
      "std               NaN         NaN                  NaN     111.402831   \n",
      "min               NaN         NaN                  NaN       0.000000   \n",
      "25%               NaN         NaN                  NaN      13.740000   \n",
      "50%               NaN         NaN                  NaN      26.900000   \n",
      "75%               NaN         NaN                  NaN      42.540000   \n",
      "max               NaN         NaN                  NaN    8329.960000   \n",
      "\n",
      "                fraud  \n",
      "count   594643.000000  \n",
      "unique            NaN  \n",
      "top               NaN  \n",
      "freq              NaN  \n",
      "mean         0.012108  \n",
      "std          0.109369  \n",
      "min          0.000000  \n",
      "25%          0.000000  \n",
      "50%          0.000000  \n",
      "75%          0.000000  \n",
      "max          1.000000  \n"
     ]
    }
   ],
   "source": [
    "print('Estadisticas Descriptivas')\n",
    "main.estadisticas_descriptivas(df)"
   ]
  },
  {
   "cell_type": "code",
   "execution_count": 7,
   "id": "f13a724d-9bae-4f4e-814b-18bc093c9a02",
   "metadata": {},
   "outputs": [
    {
     "name": "stdout",
     "output_type": "stream",
     "text": [
      "Correlaciones\n",
      "\n",
      "Matriz de correlación:\n",
      "             step    amount     fraud\n",
      "step    1.000000 -0.007961 -0.011898\n",
      "amount -0.007961  1.000000  0.489967\n",
      "fraud  -0.011898  0.489967  1.000000\n"
     ]
    },
    {
     "data": {
      "image/png": "[encoded data removed]",
      "text/plain": [
       "<Figure size 700x500 with 2 Axes>"
      ]
     },
     "metadata": {},
     "output_type": "display_data"
    }
   ],
   "source": [
    "print('Correlaciones')\n",
    "main.correlaciones(df)"
   ]
  },
  {
   "cell_type": "code",
   "execution_count": 9,
   "id": "f3d1bf1a-c6b4-49bf-b83e-13a24d274203",
   "metadata": {},
   "outputs": [
    {
     "name": "stdout",
     "output_type": "stream",
     "text": [
      "Valores Faltantes\n",
      "\n",
      "Valores faltantes por columna:\n",
      " step           0\n",
      "customer       0\n",
      "age            0\n",
      "gender         0\n",
      "zipcodeOri     0\n",
      "merchant       0\n",
      "zipMerchant    0\n",
      "category       0\n",
      "amount         0\n",
      "fraud          0\n",
      "dtype: int64\n"
     ]
    },
    {
     "data": {
      "image/png": "[encoded data removed]",
      "text/plain": [
       "<Figure size 700x500 with 1 Axes>"
      ]
     },
     "metadata": {},
     "output_type": "display_data"
    }
   ],
   "source": [
    "print('Valores Faltantes')\n",
    "main.valores_faltantes(df)"
   ]
  },
  {
   "cell_type": "code",
   "execution_count": 10,
   "id": "dda27d50-8787-4b58-bf8b-67b3b341fd51",
   "metadata": {},
   "outputs": [],
   "source": [
    "import ipywidgets as widgets\n",
    "from IPython.display import display\n",
    "\n",
    "def resumen_interactivo(db):\n",
    "    columnas = widgets.SelectMultiple(\n",
    "        options=db.columns,\n",
    "        description='Columnas:',\n",
    "        disabled=False\n",
    "    )\n",
    "\n",
    "    def mostrar_resumen(cols):\n",
    "        if cols:  # Verifica que haya al menos una columna seleccionada\n",
    "            display(db[list(cols)].describe())            \n",
    "\n",
    "    widgets.interact(mostrar_resumen, cols=columnas)"
   ]
  },
  {
   "cell_type": "code",
   "execution_count": 11,
   "id": "ee95f62c-6877-4a61-bc49-3be39bb16bd6",
   "metadata": {},
   "outputs": [],
   "source": [
    "import seaborn as sns\n",
    "import matplotlib.pyplot as plt\n",
    "\n",
    "def histogramas_interactivos(db):\n",
    "    columnas = widgets.Dropdown(\n",
    "        options=[col for col in db.columns if pd.api.types.is_numeric_dtype(db[col])],\n",
    "        description='Columna:'\n",
    "    )\n",
    "\n",
    "    def graficar(col):\n",
    "        plt.figure(figsize=(8, 4))\n",
    "        sns.histplot(db[col], kde=True)\n",
    "        plt.title(f'Distribución de {col}')\n",
    "        plt.show()\n",
    "\n",
    "    widgets.interact(graficar, col=columnas)\n"
   ]
  },
  {
   "cell_type": "code",
   "execution_count": 12,
   "id": "d61f625b-6ed0-43d3-8683-eb9816d554c7",
   "metadata": {},
   "outputs": [],
   "source": [
    "def filtro_por_rango(db, columna):\n",
    "    min_val = db[columna].min()\n",
    "    max_val = db[columna].max()\n",
    "\n",
    "    rango = widgets.FloatRangeSlider(\n",
    "        value=[min_val, max_val],\n",
    "        min=min_val,\n",
    "        max=max_val,\n",
    "        step=0.1,\n",
    "        description='Rango:',\n",
    "        continuous_update=False\n",
    "    )\n",
    "\n",
    "    def filtrar(r):\n",
    "        display(db[(db[columna] >= r[0]) & (db[columna] <= r[1])])\n",
    "\n",
    "    widgets.interact(filtrar, r=rango)\n"
   ]
  },
  {
   "cell_type": "code",
   "execution_count": 13,
   "id": "a12da037-7a18-4857-925f-196ae75b0615",
   "metadata": {},
   "outputs": [],
   "source": [
    "def dispersion_interactiva(db):\n",
    "    columnas_numericas = [col for col in db.columns if pd.api.types.is_numeric_dtype(db[col])]\n",
    "\n",
    "    x_dropdown = widgets.Dropdown(\n",
    "        options=columnas_numericas,\n",
    "        description='Eje X:'\n",
    "    )\n",
    "\n",
    "    y_dropdown = widgets.Dropdown(\n",
    "        options=columnas_numericas,\n",
    "        description='Eje Y:'\n",
    "    )\n",
    "\n",
    "    def graficar_dispersion(x, y):\n",
    "        plt.figure(figsize=(8, 5))\n",
    "        sns.scatterplot(data=db, x=x, y=y)\n",
    "        plt.title(f'Dispersión entre {x} y {y}')\n",
    "        plt.xlabel(x)\n",
    "        plt.ylabel(y)\n",
    "        plt.grid(True)\n",
    "        plt.show()\n",
    "\n",
    "    widgets.interact(graficar_dispersion, x=x_dropdown, y=y_dropdown)\n"
   ]
  },
  {
   "cell_type": "code",
   "execution_count": 14,
   "id": "8c72b7fc-59ad-4a28-8092-70a6eb656c22",
   "metadata": {},
   "outputs": [],
   "source": [
    "def conteo_categorias(db):\n",
    "    columnas_categoricas = [col for col in db.columns if db[col].dtype == 'object']\n",
    "\n",
    "    dropdown = widgets.Dropdown(\n",
    "        options=columnas_categoricas,\n",
    "        description='Categoría:'\n",
    "    )\n",
    "\n",
    "    def graficar_conteo(col):\n",
    "        plt.figure(figsize=(10, 5))\n",
    "        sns.countplot(data=db, x=col, order=db[col].value_counts().index)\n",
    "        plt.title(f'Conteo de categorías en {col}')\n",
    "        plt.xticks(rotation=45)\n",
    "        plt.show()\n",
    "\n",
    "    widgets.interact(graficar_conteo, col=dropdown)\n"
   ]
  },
  {
   "cell_type": "code",
   "execution_count": 15,
   "id": "6bf3eb7b-7c23-478e-82d0-57f2f8180cc6",
   "metadata": {},
   "outputs": [],
   "source": [
    "def tabla_filtrada_por_categoria(db):\n",
    "    columnas_categoricas = [col for col in db.columns if db[col].dtype == 'object']\n",
    "\n",
    "    dropdown_col = widgets.Dropdown(\n",
    "        options=columnas_categoricas,\n",
    "        description='Columna:'\n",
    "    )\n",
    "\n",
    "    def actualizar_valores(col):\n",
    "        valores = db[col].dropna().unique().tolist()\n",
    "        dropdown_val = widgets.Dropdown(\n",
    "            options=valores,\n",
    "            description='Valor:'\n",
    "        )\n",
    "\n",
    "        def mostrar_tabla(val):\n",
    "            display(db[db[col] == val])\n",
    "\n",
    "        display(dropdown_val)\n",
    "        widgets.interact(mostrar_tabla, val=dropdown_val)\n",
    "\n",
    "    widgets.interact(actualizar_valores, col=dropdown_col)\n"
   ]
  },
  {
   "cell_type": "code",
   "execution_count": 16,
   "id": "89b7bc62-199c-4516-871a-1f875756aaa5",
   "metadata": {},
   "outputs": [
    {
     "data": {
      "application/vnd.jupyter.widget-view+json": {
       "model_id": "27164b065dab48a398a4ecae6f616190",
       "version_major": 2,
       "version_minor": 0
      },
      "text/plain": [
       "interactive(children=(SelectMultiple(description='Columnas:', options=('step', 'customer', 'age', 'gender', 'z…"
      ]
     },
     "metadata": {},
     "output_type": "display_data"
    }
   ],
   "source": [
    "resumen_interactivo (df)"
   ]
  },
  {
   "cell_type": "code",
   "execution_count": 19,
   "id": "7b4e2f14-b0bb-4ddc-9ee8-e16331de5c09",
   "metadata": {},
   "outputs": [
    {
     "data": {
      "application/vnd.jupyter.widget-view+json": {
       "model_id": "24c090fd6a4a48f081d40a7b858615dd",
       "version_major": 2,
       "version_minor": 0
      },
      "text/plain": [
       "interactive(children=(Dropdown(description='Columna:', options=('step', 'amount', 'fraud'), value='step'), Out…"
      ]
     },
     "metadata": {},
     "output_type": "display_data"
    }
   ],
   "source": [
    "histogramas_interactivos (df)"
   ]
  },
  {
   "cell_type": "code",
   "execution_count": 23,
   "id": "9f6cd36c-3c55-40a4-81ec-4fd60fb855aa",
   "metadata": {},
   "outputs": [
    {
     "data": {
      "application/vnd.jupyter.widget-view+json": {
       "model_id": "9eed1714cc59417dba8b240b2fadef7c",
       "version_major": 2,
       "version_minor": 0
      },
      "text/plain": [
       "interactive(children=(FloatRangeSlider(value=(0.0, 8329.96), continuous_update=False, description='Rango:', ma…"
      ]
     },
     "metadata": {},
     "output_type": "display_data"
    }
   ],
   "source": [
    "filtro_por_rango (df, 'amount')"
   ]
  },
  {
   "cell_type": "code",
   "execution_count": 24,
   "id": "61c75281-fb6b-4df6-b7f7-a28b5c45cbe7",
   "metadata": {},
   "outputs": [
    {
     "data": {
      "application/vnd.jupyter.widget-view+json": {
       "model_id": "2b7b526db4884a1cb1a580ec98be091d",
       "version_major": 2,
       "version_minor": 0
      },
      "text/plain": [
       "interactive(children=(Dropdown(description='Eje X:', options=('step', 'amount', 'fraud'), value='step'), Dropd…"
      ]
     },
     "metadata": {},
     "output_type": "display_data"
    }
   ],
   "source": [
    "dispersion_interactiva (df)"
   ]
  },
  {
   "cell_type": "code",
   "execution_count": null,
   "id": "e4e5fa71-6be9-454e-a1e8-1b934800b11b",
   "metadata": {},
   "outputs": [],
   "source": [
    "conteo_categorias (df)"
   ]
  },
  {
   "cell_type": "code",
   "execution_count": null,
   "id": "36516b0e-f7fe-49c1-8960-857c756048f4",
   "metadata": {},
   "outputs": [],
   "source": [
    "tabla_filtrada_por_categoria (df)"
   ]
  },
  {
   "cell_type": "code",
   "execution_count": null,
   "id": "b25053c9-70e2-407b-aeab-a54620e909e4",
   "metadata": {},
   "outputs": [],
   "source": []
  }
 ],
 "metadata": {
  "kernelspec": {
   "display_name": "Kernel dp1",
   "language": "python",
   "name": "dp1"
  },
  "language_info": {
   "codemirror_mode": {
    "name": "ipython",
    "version": 3
   },
   "file_extension": ".py",
   "mimetype": "text/x-python",
   "name": "python",
   "nbconvert_exporter": "python",
   "pygments_lexer": "ipython3",
   "version": "3.13.5"
  }
 },
 "nbformat": 4,
 "nbformat_minor": 5
}
